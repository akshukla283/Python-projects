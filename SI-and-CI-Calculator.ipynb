{
 "cells": [
  {
   "cell_type": "code",
   "execution_count": 3,
   "metadata": {},
   "outputs": [],
   "source": [
    "from tkinter import*\n",
    "A = Tk()\n",
    "A.title(\"SI Generator\")\n",
    "#A.geomerty(\"400x400\")\n",
    "\n",
    "def SI():\n",
    "    Result.delete(\"0\",END)\n",
    "    a = int(e1.get())\n",
    "    b = int(e2.get())\n",
    "    c = int(e3.get())\n",
    "    s_i = a*b*c/100\n",
    "    Result.insert(\"0\",s_i)\n",
    "\n",
    "def CI():\n",
    "    Result.delete(\"0\",END)\n",
    "    a = int(e1.get())\n",
    "    b = int(e2.get())\n",
    "    c = int(e3.get())\n",
    "    s_i = a*b*c/100\n",
    "    c_i = s_i+a\n",
    "    Result.insert(\"0\",c_i)\n",
    "\n",
    "\n",
    "\n",
    "\n",
    "\n",
    "Result= Entry(A,font=(\"Times New Roman\",30,\"bold\"),fg = \"white\",bg=\"green\",bd = 10,)\n",
    "Result.grid(columnspan = 2)\n",
    "\n",
    "la1 = Label(A,text = \"Amount\",font=(\"Times New Roman\",25,\"bold\"))\n",
    "la1.grid(row = 1,column = 0,sticky = \"w\")\n",
    "la2 = Label(A,text = \"Rate\",font=(\"Times New Roman\",25,\"bold\"))\n",
    "la2.grid(row = 2,column = 0,sticky = \"w\")\n",
    "la3 = Label(A,text = \"Time\",font=(\"Times New Roman\",25,\"bold\"))\n",
    "la3.grid(row = 3,column = 0,sticky = \"w\")\n",
    "\n",
    "e1 = Entry(A,font=(\"Times New Roman\",25,\"bold\"),bd=5,width=15,)\n",
    "e1.grid(row = 1, column = 1)\n",
    "e2 = Entry(A,font=(\"Times New Roman\",25,\"bold\"),bd=5,width=15)\n",
    "e2.grid(row = 2,column= 1)\n",
    "e3 = Entry(A,font=(\"Times New Roman\",25,\"bold\"),bd=5,width=15)\n",
    "e3.grid(row = 3, column =1)\n",
    "\n",
    "b1 = Button(A,text=\"SI\",font=(\"Times New Roman\",25,\"bold\"),bd=5,bg =\"orange\",fg =\"Black\",padx = 20,command=SI)\n",
    "b1.grid(row =4,column =0)\n",
    "b2 = Button(A,text=\"CI\",font=(\"Times New Roman\",25,\"bold\"),bd=5,bg =\"orange\",fg =\"Black\",padx = 20,command=CI)\n",
    "b2.grid(row =4,column =1)\n",
    "\n",
    "A.mainloop()\n",
    "\n",
    "\n"
   ]
  },
  {
   "cell_type": "code",
   "execution_count": null,
   "metadata": {},
   "outputs": [],
   "source": []
  }
 ],
 "metadata": {
  "kernelspec": {
   "display_name": "Python 3",
   "language": "python",
   "name": "python3"
  },
  "language_info": {
   "codemirror_mode": {
    "name": "ipython",
    "version": 3
   },
   "file_extension": ".py",
   "mimetype": "text/x-python",
   "name": "python",
   "nbconvert_exporter": "python",
   "pygments_lexer": "ipython3",
   "version": "3.7.4"
  }
 },
 "nbformat": 4,
 "nbformat_minor": 2
}
