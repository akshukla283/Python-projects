{
 "cells": [
  {
   "cell_type": "code",
   "execution_count": 4,
   "metadata": {},
   "outputs": [
    {
     "name": "stdout",
     "output_type": "stream",
     "text": [
      "Enter the number of digits you want after the decimal for e: 5\n",
      "2.71828\n"
     ]
    }
   ],
   "source": [
    "import math \n",
    "\n",
    "def CalculateE(roundVal):\n",
    "\n",
    "        someE = round(math.e,roundVal);\n",
    "        e = str(someE)\n",
    "        someList = list(e)\n",
    "        return someE\n",
    "\n",
    "\n",
    "roundTo = int(input('Enter the number of digits you want after the decimal for e: '))\n",
    "try:\n",
    "    roundint = int(roundTo)\n",
    "    print( CalculateE(roundint))\n",
    "except:\n",
    "    print(\"You did not enter an integer\")\n",
    "\n"
   ]
  },
  {
   "cell_type": "code",
   "execution_count": 1,
   "metadata": {},
   "outputs": [],
   "source": [
    "import math"
   ]
  },
  {
   "cell_type": "code",
   "execution_count": 3,
   "metadata": {},
   "outputs": [
    {
     "data": {
      "text/plain": [
       "2.718281828459045"
      ]
     },
     "execution_count": 3,
     "metadata": {},
     "output_type": "execute_result"
    }
   ],
   "source": [
    "math.e"
   ]
  },
  {
   "cell_type": "code",
   "execution_count": null,
   "metadata": {},
   "outputs": [],
   "source": []
  }
 ],
 "metadata": {
  "kernelspec": {
   "display_name": "Python 3",
   "language": "python",
   "name": "python3"
  },
  "language_info": {
   "codemirror_mode": {
    "name": "ipython",
    "version": 3
   },
   "file_extension": ".py",
   "mimetype": "text/x-python",
   "name": "python",
   "nbconvert_exporter": "python",
   "pygments_lexer": "ipython3",
   "version": "3.7.4"
  }
 },
 "nbformat": 4,
 "nbformat_minor": 2
}
