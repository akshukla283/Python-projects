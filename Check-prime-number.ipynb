{
 "cells": [
  {
   "cell_type": "code",
   "execution_count": 3,
   "metadata": {},
   "outputs": [
    {
     "name": "stdout",
     "output_type": "stream",
     "text": [
      "Enter a number to check Prime: 6\n",
      "Not Prime\n",
      "None\n"
     ]
    }
   ],
   "source": [
    "def check_prime(num):\n",
    "    \n",
    "    if num>1:\n",
    "        \n",
    "        for i in range(2, num):\n",
    "            \n",
    "            if num%i ==0:\n",
    "                print(\"Not Prime\")\n",
    "                break\n",
    "        else:\n",
    "            print(\"Prime\")\n",
    "            \n",
    "    else:\n",
    "        print(\"Not Prime\")\n",
    "    \n",
    "def validate_positive_integer():\n",
    "    \"\"\"\n",
    "    Ask the user for input and only return when a positive integer under\n",
    "    500 is given.\n",
    "\n",
    "    \"\"\"\n",
    "    while True:\n",
    "        s = input(\"Enter a number to check Prime: \")\n",
    "        try:\n",
    "            N = int(s)\n",
    "            if N>0:\n",
    "                \n",
    "                return N\n",
    "            else:\n",
    "                print(\"Enter a positive integer.\")\n",
    "        except ValueError:\n",
    "            print(\"Enter a positive integer.\")\n",
    "            \n",
    "def main():\n",
    "    n = validate_positive_integer()\n",
    "    print( check_prime(n))\n",
    "\n",
    "\n",
    "if __name__ == \"__main__\":\n",
    "    main()\n",
    "\n",
    "    "
   ]
  },
  {
   "cell_type": "code",
   "execution_count": null,
   "metadata": {},
   "outputs": [],
   "source": []
  }
 ],
 "metadata": {
  "kernelspec": {
   "display_name": "Python 3",
   "language": "python",
   "name": "python3"
  },
  "language_info": {
   "codemirror_mode": {
    "name": "ipython",
    "version": 3
   },
   "file_extension": ".py",
   "mimetype": "text/x-python",
   "name": "python",
   "nbconvert_exporter": "python",
   "pygments_lexer": "ipython3",
   "version": "3.7.4"
  }
 },
 "nbformat": 4,
 "nbformat_minor": 2
}
