{
 "cells": [
  {
   "cell_type": "code",
   "execution_count": 6,
   "metadata": {},
   "outputs": [
    {
     "name": "stdout",
     "output_type": "stream",
     "text": [
      "Which term in the Fibonacci sequence you want to see?: 3\\\n",
      "Enter a positive integer.\n",
      "Which term in the Fibonacci sequence you want to see?: 8\n",
      "0 1 1 2 3 5 8 13 None\n"
     ]
    }
   ],
   "source": [
    "def fib(N):\n",
    "    \n",
    "    \n",
    "    a = 0\n",
    "    b = 1\n",
    "    if N ==1:\n",
    "        \n",
    "        print(a)\n",
    "    else:\n",
    "        print(a,b,end=\" \")\n",
    "        for i in range(2,N):\n",
    "            c= a+b\n",
    "            a= b\n",
    "            b= c\n",
    "            print(c,end=\" \")\n",
    "            \n",
    "# x= int(input(\"Please enter the number: \"))\n",
    "# fib(x)\n",
    "\n",
    "\n",
    "def validate_positive_integer():\n",
    "    \"\"\"\n",
    "    Ask the user for input and only return when a positive integer under\n",
    "    500 is given.\n",
    "\n",
    "    \"\"\"\n",
    "    while True:\n",
    "        s = input(\"Which term in the Fibonacci sequence you want to see?: \")\n",
    "        try:\n",
    "            N = int(s)\n",
    "            if N >= 500:\n",
    "                print(\"Enter a number smaller than 500.\")\n",
    "            elif N > 0:\n",
    "                return N\n",
    "            else:\n",
    "                print(\"Enter a positive integer.\")\n",
    "        except ValueError:\n",
    "            print(\"Enter a positive integer.\")\n",
    "            \n",
    "\n",
    "def main():\n",
    "    n = validate_positive_integer()\n",
    "    print( fib(n))\n",
    "\n",
    "\n",
    "if __name__ == \"__main__\":\n",
    "    main()\n"
   ]
  },
  {
   "cell_type": "code",
   "execution_count": null,
   "metadata": {},
   "outputs": [],
   "source": []
  }
 ],
 "metadata": {
  "kernelspec": {
   "display_name": "Python 3",
   "language": "python",
   "name": "python3"
  },
  "language_info": {
   "codemirror_mode": {
    "name": "ipython",
    "version": 3
   },
   "file_extension": ".py",
   "mimetype": "text/x-python",
   "name": "python",
   "nbconvert_exporter": "python",
   "pygments_lexer": "ipython3",
   "version": "3.7.4"
  }
 },
 "nbformat": 4,
 "nbformat_minor": 2
}
