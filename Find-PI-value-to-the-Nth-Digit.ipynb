{
 "cells": [
  {
   "cell_type": "code",
   "execution_count": null,
   "metadata": {},
   "outputs": [],
   "source": []
  },
  {
   "cell_type": "code",
   "execution_count": 9,
   "metadata": {},
   "outputs": [
    {
     "name": "stdout",
     "output_type": "stream",
     "text": [
      "Enter the number of decimals to calculate to: 4\n",
      "3.1415\n"
     ]
    }
   ],
   "source": [
    "# Find PI to the Nth Digit\n",
    "# Have the user enter a number 'n'\n",
    "# and print out PI to the 'n'th digit\n",
    "\n",
    "\n",
    "def calcPi(limit):  # Generator function\n",
    "    \"\"\"\n",
    "    Prints out the digits of PI\n",
    "    until it reaches the given limit\n",
    "    \"\"\"\n",
    "\n",
    "    q, r, t, k, n, l = 1, 0, 1, 1, 3, 3\n",
    "\n",
    "    decimal = limit\n",
    "    counter = 0\n",
    "\n",
    "    while counter != decimal + 1:\n",
    "            if 4 * q + r - t < n * t:\n",
    "                    # yield digit\n",
    "                    yield n\n",
    "                    # insert period after first digit\n",
    "                    if counter == 0:\n",
    "                            yield '.'\n",
    "                    # end\n",
    "                    if decimal == counter:\n",
    "                            print('')\n",
    "                            break\n",
    "                    counter += 1\n",
    "                    nr = 10 * (r - n * t)\n",
    "                    n = ((10 * (3 * q + r)) // t) - 10 * n\n",
    "                    q *= 10\n",
    "                    r = nr\n",
    "            else:\n",
    "                    nr = (2 * q + r) * l\n",
    "                    nn = (q * (7 * k) + 2 + (r * l)) // (t * l)\n",
    "                    q *= k\n",
    "                    t *= l\n",
    "                    l += 2\n",
    "                    k += 1\n",
    "                    n = nn\n",
    "                    r = nr\n",
    "\n",
    "\n",
    "def main():  # Wrapper function\n",
    "\n",
    "    # Calls CalcPi with the given limit\n",
    "    pi_digits = calcPi(int(input(\n",
    "        \"Enter the number of decimals to calculate to: \")))\n",
    "\n",
    "    i = 0\n",
    "\n",
    "    # Prints the output of calcPi generator function\n",
    "    # Inserts a newline after every 40th number\n",
    "    for d in pi_digits:\n",
    "            print(d, end='')\n",
    "            i += 1\n",
    "            if i == 40:\n",
    "                print(\"\")\n",
    "                i = 0\n",
    "\n",
    "if __name__ == '__main__':\n",
    "    main()\n"
   ]
  },
  {
   "cell_type": "code",
   "execution_count": null,
   "metadata": {},
   "outputs": [],
   "source": [
    " import math \n",
    "\n",
    "def CalculatePi(roundVal):\n",
    "\n",
    "        somePi = round(math.pi,roundVal)\n",
    "        pi = str(somePi)\n",
    "        someList = list(pi)\n",
    "        return somePi\n",
    "\n",
    "\n",
    "roundTo = int(input('Enter the number of digits you want after the decimal for ∏: '))\n",
    "try:\n",
    "    roundint = int(roundTo)\n",
    "    print( CalculatePi(roundint))\n",
    "except:\n",
    "    print(\"You did not enter an integer\")\n",
    "\n"
   ]
  },
  {
   "cell_type": "code",
   "execution_count": 10,
   "metadata": {},
   "outputs": [],
   "source": [
    "import math"
   ]
  },
  {
   "cell_type": "code",
   "execution_count": 12,
   "metadata": {},
   "outputs": [
    {
     "data": {
      "text/plain": [
       "3.141592653589793"
      ]
     },
     "execution_count": 12,
     "metadata": {},
     "output_type": "execute_result"
    }
   ],
   "source": [
    "math.pi"
   ]
  },
  {
   "cell_type": "code",
   "execution_count": null,
   "metadata": {},
   "outputs": [],
   "source": []
  }
 ],
 "metadata": {
  "kernelspec": {
   "display_name": "Python 3",
   "language": "python",
   "name": "python3"
  },
  "language_info": {
   "codemirror_mode": {
    "name": "ipython",
    "version": 3
   },
   "file_extension": ".py",
   "mimetype": "text/x-python",
   "name": "python",
   "nbconvert_exporter": "python",
   "pygments_lexer": "ipython3",
   "version": "3.7.4"
  }
 },
 "nbformat": 4,
 "nbformat_minor": 2
}
